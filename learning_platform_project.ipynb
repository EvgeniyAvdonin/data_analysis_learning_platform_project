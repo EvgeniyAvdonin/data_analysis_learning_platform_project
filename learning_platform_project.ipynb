{
 "cells": [
  {
   "cell_type": "code",
   "execution_count": 18,
   "metadata": {},
   "outputs": [],
   "source": [
    "import pandas as pd\n",
    "import numpy as np\n",
    "from scipy import stats\n",
    "import scipy\n",
    "from tqdm.auto import tqdm\n",
    "\n",
    "import seaborn as sns\n",
    "import matplotlib.pyplot as plt\n",
    "%matplotlib inline\n",
    "plt.style.use('ggplot')\n",
    "\n",
    "\n",
    "import pandahouse as ph"
   ]
  },
  {
   "cell_type": "markdown",
   "metadata": {},
   "source": [
    "## ***Задание 1. A/B–тестирование***\n",
    "#### 1.1 Условие\n",
    "\n",
    "Одной из основных задач аналитика в нашей команде является корректное проведение экспериментов. Для этого мы применяем метод A/B–тестирования. В ходе тестирования одной гипотезы целевой группе была предложена новая механика оплаты услуг на сайте, у контрольной группы оставалась базовая механика. В качестве задания Вам необходимо проанализировать итоги эксперимента и сделать вывод, стоит ли запускать новую механику оплаты на всех пользователей."
   ]
  },
  {
   "cell_type": "markdown",
   "metadata": {},
   "source": [
    "## Решение"
   ]
  },
  {
   "cell_type": "markdown",
   "metadata": {},
   "source": [
    "#### 0. Загрузка данных"
   ]
  },
  {
   "cell_type": "code",
   "execution_count": 23,
   "metadata": {},
   "outputs": [],
   "source": [
    "groups = pd.read_csv(\n",
    "    'groups.csv',\n",
    "    sep = ';')\n",
    "# Файл с информацией о принадлежности пользователя к контрольной или экспериментальной группе \n",
    "# (А – контроль (базовая механика) , B – целевая группа(новая механика))"
   ]
  },
  {
   "cell_type": "code",
   "execution_count": 24,
   "metadata": {},
   "outputs": [],
   "source": [
    "groups_add = pd.read_csv(\n",
    "    'group_add.csv')\n",
    "# Дополнительный файл с пользователями, который вам прислали спустя 2 дня после передачи данных"
   ]
  },
  {
   "cell_type": "code",
   "execution_count": 25,
   "metadata": {},
   "outputs": [],
   "source": [
    "active_studs = pd.read_csv(\n",
    "    'active_studs.csv',\n",
    "    sep=';')\n",
    "# Файл с информацией о пользователях, которые зашли на платформу в дни проведения эксперимента"
   ]
  },
  {
   "cell_type": "code",
   "execution_count": 26,
   "metadata": {},
   "outputs": [],
   "source": [
    "checks = pd.read_csv(\n",
    "    'checks.csv',\n",
    "    sep=';')\n",
    "# Файл с информацией об оплатах пользователей в дни проведения эксперимента"
   ]
  },
  {
   "cell_type": "markdown",
   "metadata": {},
   "source": [
    "#### 1. Предобработка имеющихся данных\n",
    "Иследуем направленные файлы:\n",
    "- Какой объем данных? Какое наполнение?\n",
    "- Какие типы данных используются? \n",
    "- Есть ли пропущенные значения? \n",
    "- Есть ли дубли? "
   ]
  },
  {
   "cell_type": "code",
   "execution_count": 27,
   "metadata": {},
   "outputs": [
    {
     "data": {
      "text/html": [
       "<div>\n",
       "<style scoped>\n",
       "    .dataframe tbody tr th:only-of-type {\n",
       "        vertical-align: middle;\n",
       "    }\n",
       "\n",
       "    .dataframe tbody tr th {\n",
       "        vertical-align: top;\n",
       "    }\n",
       "\n",
       "    .dataframe thead th {\n",
       "        text-align: right;\n",
       "    }\n",
       "</style>\n",
       "<table border=\"1\" class=\"dataframe\">\n",
       "  <thead>\n",
       "    <tr style=\"text-align: right;\">\n",
       "      <th></th>\n",
       "      <th>id</th>\n",
       "      <th>grp</th>\n",
       "    </tr>\n",
       "  </thead>\n",
       "  <tbody>\n",
       "    <tr>\n",
       "      <th>0</th>\n",
       "      <td>1489</td>\n",
       "      <td>B</td>\n",
       "    </tr>\n",
       "    <tr>\n",
       "      <th>1</th>\n",
       "      <td>1627</td>\n",
       "      <td>A</td>\n",
       "    </tr>\n",
       "    <tr>\n",
       "      <th>2</th>\n",
       "      <td>1768</td>\n",
       "      <td>B</td>\n",
       "    </tr>\n",
       "    <tr>\n",
       "      <th>3</th>\n",
       "      <td>1783</td>\n",
       "      <td>B</td>\n",
       "    </tr>\n",
       "    <tr>\n",
       "      <th>4</th>\n",
       "      <td>1794</td>\n",
       "      <td>A</td>\n",
       "    </tr>\n",
       "  </tbody>\n",
       "</table>\n",
       "</div>"
      ],
      "text/plain": [
       "     id grp\n",
       "0  1489   B\n",
       "1  1627   A\n",
       "2  1768   B\n",
       "3  1783   B\n",
       "4  1794   A"
      ]
     },
     "execution_count": 27,
     "metadata": {},
     "output_type": "execute_result"
    }
   ],
   "source": [
    "groups.head()\n",
    "# Проверим состав колонок df и удостоверимся, что данные выгрузились нормально"
   ]
  },
  {
   "cell_type": "code",
   "execution_count": 28,
   "metadata": {},
   "outputs": [
    {
     "data": {
      "text/plain": [
       "(id     74484\n",
       " grp    74484\n",
       " dtype: int64,\n",
       " id     92\n",
       " grp    92\n",
       " dtype: int64,\n",
       " student_id    8341\n",
       " dtype: int64,\n",
       " student_id    541\n",
       " rev           541\n",
       " dtype: int64)"
      ]
     },
     "execution_count": 28,
     "metadata": {},
     "output_type": "execute_result"
    }
   ],
   "source": [
    "groups.count(), groups_add.count(), active_studs.count(), checks.count()\n",
    "# Подсчет количества строк в dfs"
   ]
  },
  {
   "cell_type": "code",
   "execution_count": 29,
   "metadata": {},
   "outputs": [
    {
     "data": {
      "text/plain": [
       "(id     74484\n",
       " grp        2\n",
       " dtype: int64,\n",
       " id     92\n",
       " grp     2\n",
       " dtype: int64,\n",
       " student_id    8341\n",
       " dtype: int64,\n",
       " student_id    541\n",
       " rev            39\n",
       " dtype: int64)"
      ]
     },
     "execution_count": 29,
     "metadata": {},
     "output_type": "execute_result"
    }
   ],
   "source": [
    "groups.nunique(), groups_add.nunique(), active_studs.nunique(), checks.nunique()\n",
    "# Подсчет количества уникальных строк в dfs\n",
    "# => дубли отсутствуют"
   ]
  },
  {
   "cell_type": "code",
   "execution_count": 30,
   "metadata": {},
   "outputs": [
    {
     "data": {
      "text/plain": [
       "(id     0\n",
       " grp    0\n",
       " dtype: int64,\n",
       " id     0\n",
       " grp    0\n",
       " dtype: int64,\n",
       " student_id    0\n",
       " dtype: int64,\n",
       " student_id    0\n",
       " rev           0\n",
       " dtype: int64)"
      ]
     },
     "execution_count": 30,
     "metadata": {},
     "output_type": "execute_result"
    }
   ],
   "source": [
    "groups.isna().sum(), groups_add.isna().sum(), active_studs.isna().sum(), checks.isna().sum()\n",
    "# Проверка пустых значений в dfs"
   ]
  },
  {
   "cell_type": "code",
   "execution_count": 31,
   "metadata": {},
   "outputs": [
    {
     "data": {
      "text/plain": [
       "(id      int64\n",
       " grp    object\n",
       " dtype: object,\n",
       " id      int64\n",
       " grp    object\n",
       " dtype: object,\n",
       " student_id    int64\n",
       " dtype: object,\n",
       " student_id      int64\n",
       " rev           float64\n",
       " dtype: object)"
      ]
     },
     "execution_count": 31,
     "metadata": {},
     "output_type": "execute_result"
    }
   ],
   "source": [
    "groups.dtypes, groups_add.dtypes, active_studs.dtypes, checks.dtypes\n",
    "# Проверка типов данных в dfs"
   ]
  },
  {
   "cell_type": "markdown",
   "metadata": {},
   "source": [
    "В результате предобработки данных выяснено: \n",
    "- количество строк в каждом из df\n",
    "- наполнение df (что находится в столбцах)\n",
    "- в датафреймах отсутствуют повторяющиеся и пропущенные строки"
   ]
  },
  {
   "cell_type": "code",
   "execution_count": 32,
   "metadata": {},
   "outputs": [
    {
     "data": {
      "text/html": [
       "<div>\n",
       "<style scoped>\n",
       "    .dataframe tbody tr th:only-of-type {\n",
       "        vertical-align: middle;\n",
       "    }\n",
       "\n",
       "    .dataframe tbody tr th {\n",
       "        vertical-align: top;\n",
       "    }\n",
       "\n",
       "    .dataframe thead th {\n",
       "        text-align: right;\n",
       "    }\n",
       "</style>\n",
       "<table border=\"1\" class=\"dataframe\">\n",
       "  <thead>\n",
       "    <tr style=\"text-align: right;\">\n",
       "      <th></th>\n",
       "      <th>grp</th>\n",
       "      <th>id</th>\n",
       "    </tr>\n",
       "  </thead>\n",
       "  <tbody>\n",
       "    <tr>\n",
       "      <th>0</th>\n",
       "      <td>A</td>\n",
       "      <td>14671</td>\n",
       "    </tr>\n",
       "    <tr>\n",
       "      <th>1</th>\n",
       "      <td>B</td>\n",
       "      <td>59813</td>\n",
       "    </tr>\n",
       "  </tbody>\n",
       "</table>\n",
       "</div>"
      ],
      "text/plain": [
       "  grp     id\n",
       "0   A  14671\n",
       "1   B  59813"
      ]
     },
     "execution_count": 32,
     "metadata": {},
     "output_type": "execute_result"
    }
   ],
   "source": [
    "# Количество пользователей в каждой из групп (1-й df)\n",
    "groups.groupby('grp', as_index = False) \\\n",
    "    .agg({'id': 'count'})"
   ]
  },
  {
   "cell_type": "code",
   "execution_count": 33,
   "metadata": {},
   "outputs": [
    {
     "data": {
      "text/html": [
       "<div>\n",
       "<style scoped>\n",
       "    .dataframe tbody tr th:only-of-type {\n",
       "        vertical-align: middle;\n",
       "    }\n",
       "\n",
       "    .dataframe tbody tr th {\n",
       "        vertical-align: top;\n",
       "    }\n",
       "\n",
       "    .dataframe thead th {\n",
       "        text-align: right;\n",
       "    }\n",
       "</style>\n",
       "<table border=\"1\" class=\"dataframe\">\n",
       "  <thead>\n",
       "    <tr style=\"text-align: right;\">\n",
       "      <th></th>\n",
       "      <th>grp</th>\n",
       "      <th>id</th>\n",
       "    </tr>\n",
       "  </thead>\n",
       "  <tbody>\n",
       "    <tr>\n",
       "      <th>0</th>\n",
       "      <td>A</td>\n",
       "      <td>22</td>\n",
       "    </tr>\n",
       "    <tr>\n",
       "      <th>1</th>\n",
       "      <td>B</td>\n",
       "      <td>70</td>\n",
       "    </tr>\n",
       "  </tbody>\n",
       "</table>\n",
       "</div>"
      ],
      "text/plain": [
       "  grp  id\n",
       "0   A  22\n",
       "1   B  70"
      ]
     },
     "execution_count": 33,
     "metadata": {},
     "output_type": "execute_result"
    }
   ],
   "source": [
    "# Количество пользователей в каждой из групп (дополнительный df)\n",
    "groups_add.groupby('grp', as_index = False) \\\n",
    "    .agg({'id': 'count'})"
   ]
  },
  {
   "cell_type": "markdown",
   "metadata": {},
   "source": [
    "В обоих df заметна диспропорация групп: клиентов с новым способом оплаты сильно больше, чем с базовым"
   ]
  },
  {
   "cell_type": "code",
   "execution_count": 34,
   "metadata": {},
   "outputs": [
    {
     "data": {
      "text/plain": [
       "573326.0035999999"
      ]
     },
     "execution_count": 34,
     "metadata": {},
     "output_type": "execute_result"
    }
   ],
   "source": [
    "# Валовая сумма дохода в дни проведения эксперимента\n",
    "checks.rev.sum()"
   ]
  },
  {
   "cell_type": "code",
   "execution_count": 35,
   "metadata": {},
   "outputs": [],
   "source": [
    "# Добавление дополнительных клиентов в df\n",
    "both_groups = pd.concat([groups, groups_add])"
   ]
  },
  {
   "cell_type": "code",
   "execution_count": 36,
   "metadata": {},
   "outputs": [
    {
     "data": {
      "text/plain": [
       "True"
      ]
     },
     "execution_count": 36,
     "metadata": {},
     "output_type": "execute_result"
    }
   ],
   "source": [
    "# Проверка отсутствия повторяющихся ID между двумя df\n",
    "both_groups.id.nunique() == groups.id.count() + groups_add.id.count()"
   ]
  },
  {
   "cell_type": "code",
   "execution_count": 37,
   "metadata": {},
   "outputs": [],
   "source": [
    "# Чтобы избежать сложности с объединением df, переименум колонку с ID в единый вид\n",
    "both_groups = both_groups.rename(columns=({'id': 'student_id'}))"
   ]
  },
  {
   "cell_type": "code",
   "execution_count": 38,
   "metadata": {},
   "outputs": [
    {
     "data": {
      "text/html": [
       "<div>\n",
       "<style scoped>\n",
       "    .dataframe tbody tr th:only-of-type {\n",
       "        vertical-align: middle;\n",
       "    }\n",
       "\n",
       "    .dataframe tbody tr th {\n",
       "        vertical-align: top;\n",
       "    }\n",
       "\n",
       "    .dataframe thead th {\n",
       "        text-align: right;\n",
       "    }\n",
       "</style>\n",
       "<table border=\"1\" class=\"dataframe\">\n",
       "  <thead>\n",
       "    <tr style=\"text-align: right;\">\n",
       "      <th></th>\n",
       "      <th>student_id</th>\n",
       "      <th>rev</th>\n",
       "    </tr>\n",
       "  </thead>\n",
       "  <tbody>\n",
       "    <tr>\n",
       "      <th>0</th>\n",
       "      <td>1627</td>\n",
       "      <td>990.0000</td>\n",
       "    </tr>\n",
       "    <tr>\n",
       "      <th>1</th>\n",
       "      <td>100300</td>\n",
       "      <td>990.0000</td>\n",
       "    </tr>\n",
       "    <tr>\n",
       "      <th>2</th>\n",
       "      <td>108270</td>\n",
       "      <td>290.0000</td>\n",
       "    </tr>\n",
       "    <tr>\n",
       "      <th>3</th>\n",
       "      <td>264473</td>\n",
       "      <td>1900.0001</td>\n",
       "    </tr>\n",
       "    <tr>\n",
       "      <th>4</th>\n",
       "      <td>274352</td>\n",
       "      <td>690.0000</td>\n",
       "    </tr>\n",
       "    <tr>\n",
       "      <th>...</th>\n",
       "      <td>...</td>\n",
       "      <td>...</td>\n",
       "    </tr>\n",
       "    <tr>\n",
       "      <th>387</th>\n",
       "      <td>5645737</td>\n",
       "      <td>1900.0000</td>\n",
       "    </tr>\n",
       "    <tr>\n",
       "      <th>388</th>\n",
       "      <td>5651566</td>\n",
       "      <td>1900.0000</td>\n",
       "    </tr>\n",
       "    <tr>\n",
       "      <th>389</th>\n",
       "      <td>5662322</td>\n",
       "      <td>1900.0000</td>\n",
       "    </tr>\n",
       "    <tr>\n",
       "      <th>390</th>\n",
       "      <td>5681918</td>\n",
       "      <td>1900.0000</td>\n",
       "    </tr>\n",
       "    <tr>\n",
       "      <th>391</th>\n",
       "      <td>5740903</td>\n",
       "      <td>1900.0000</td>\n",
       "    </tr>\n",
       "  </tbody>\n",
       "</table>\n",
       "<p>392 rows × 2 columns</p>\n",
       "</div>"
      ],
      "text/plain": [
       "     student_id        rev\n",
       "0          1627   990.0000\n",
       "1        100300   990.0000\n",
       "2        108270   290.0000\n",
       "3        264473  1900.0001\n",
       "4        274352   690.0000\n",
       "..          ...        ...\n",
       "387     5645737  1900.0000\n",
       "388     5651566  1900.0000\n",
       "389     5662322  1900.0000\n",
       "390     5681918  1900.0000\n",
       "391     5740903  1900.0000\n",
       "\n",
       "[392 rows x 2 columns]"
      ]
     },
     "execution_count": 38,
     "metadata": {},
     "output_type": "execute_result"
    }
   ],
   "source": [
    "checks.merge(active_studs, on='student_id', how='inner')"
   ]
  },
  {
   "cell_type": "code",
   "execution_count": 39,
   "metadata": {},
   "outputs": [
    {
     "data": {
      "text/html": [
       "<div>\n",
       "<style scoped>\n",
       "    .dataframe tbody tr th:only-of-type {\n",
       "        vertical-align: middle;\n",
       "    }\n",
       "\n",
       "    .dataframe tbody tr th {\n",
       "        vertical-align: top;\n",
       "    }\n",
       "\n",
       "    .dataframe thead th {\n",
       "        text-align: right;\n",
       "    }\n",
       "</style>\n",
       "<table border=\"1\" class=\"dataframe\">\n",
       "  <thead>\n",
       "    <tr style=\"text-align: right;\">\n",
       "      <th></th>\n",
       "      <th>student_id</th>\n",
       "      <th>rev</th>\n",
       "    </tr>\n",
       "  </thead>\n",
       "  <tbody>\n",
       "    <tr>\n",
       "      <th>0</th>\n",
       "      <td>1627</td>\n",
       "      <td>990.0</td>\n",
       "    </tr>\n",
       "    <tr>\n",
       "      <th>1</th>\n",
       "      <td>3185</td>\n",
       "      <td>690.0</td>\n",
       "    </tr>\n",
       "    <tr>\n",
       "      <th>2</th>\n",
       "      <td>25973</td>\n",
       "      <td>690.0</td>\n",
       "    </tr>\n",
       "    <tr>\n",
       "      <th>3</th>\n",
       "      <td>26280</td>\n",
       "      <td>690.0</td>\n",
       "    </tr>\n",
       "    <tr>\n",
       "      <th>4</th>\n",
       "      <td>100300</td>\n",
       "      <td>990.0</td>\n",
       "    </tr>\n",
       "    <tr>\n",
       "      <th>...</th>\n",
       "      <td>...</td>\n",
       "      <td>...</td>\n",
       "    </tr>\n",
       "    <tr>\n",
       "      <th>536</th>\n",
       "      <td>5645737</td>\n",
       "      <td>1900.0</td>\n",
       "    </tr>\n",
       "    <tr>\n",
       "      <th>537</th>\n",
       "      <td>5651566</td>\n",
       "      <td>1900.0</td>\n",
       "    </tr>\n",
       "    <tr>\n",
       "      <th>538</th>\n",
       "      <td>5662322</td>\n",
       "      <td>1900.0</td>\n",
       "    </tr>\n",
       "    <tr>\n",
       "      <th>539</th>\n",
       "      <td>5681918</td>\n",
       "      <td>1900.0</td>\n",
       "    </tr>\n",
       "    <tr>\n",
       "      <th>540</th>\n",
       "      <td>5740903</td>\n",
       "      <td>1900.0</td>\n",
       "    </tr>\n",
       "  </tbody>\n",
       "</table>\n",
       "<p>541 rows × 2 columns</p>\n",
       "</div>"
      ],
      "text/plain": [
       "     student_id     rev\n",
       "0          1627   990.0\n",
       "1          3185   690.0\n",
       "2         25973   690.0\n",
       "3         26280   690.0\n",
       "4        100300   990.0\n",
       "..          ...     ...\n",
       "536     5645737  1900.0\n",
       "537     5651566  1900.0\n",
       "538     5662322  1900.0\n",
       "539     5681918  1900.0\n",
       "540     5740903  1900.0\n",
       "\n",
       "[541 rows x 2 columns]"
      ]
     },
     "execution_count": 39,
     "metadata": {},
     "output_type": "execute_result"
    }
   ],
   "source": [
    "checks"
   ]
  },
  {
   "cell_type": "markdown",
   "metadata": {},
   "source": [
    "Обнаружена следующая ситуация: \n",
    "\n",
    "По условию, в таблице active_studs находятся пользователи, зашедшие в дни эксперимента на сайт. В таблице checks - пользователи, совершившие покупки в дни эксперимента. \n",
    "\n",
    "На двух строках выше видно сравнение двух df - объединенение *посетителей* (active_studs) с checks имеет меньше строк (т.е. число купивших пользователей) , чем checks сам по себе (392vs541). \n",
    "\n",
    "Получается, что из 541 совершивших покупку пользователей, зашли на платформу только 392. Возникает вопрос, к кому относятся оставшиеся пользователи. Точно ответить на него не позволяет имеющееся условие, поэтому можно сделать предположения: \n",
    "- Произошла техническая ошибка и не все оплатившие записаны в посетителей\n",
    "- Произошла техническая ошибка и в checks попали клиенты, совершившие покупки оффлайн\n",
    "\n",
    "Для текущих целей проекта, будем считать, что справедлив п.1. Добавим всех оплативших пользователей в df"
   ]
  },
  {
   "cell_type": "code",
   "execution_count": 40,
   "metadata": {},
   "outputs": [],
   "source": [
    "# Присоединение к посетителям платформы данных о группе\n",
    "full_info_test = both_groups.merge(active_studs, on='student_id', how='inner') \\\n",
    "    .merge(checks, on='student_id', how='outer') "
   ]
  },
  {
   "cell_type": "markdown",
   "metadata": {},
   "source": [
    "В df нет данных о типах продуктов, однако можно проанализировать суммы покупок: "
   ]
  },
  {
   "cell_type": "code",
   "execution_count": 41,
   "metadata": {},
   "outputs": [
    {
     "data": {
      "text/html": [
       "<div>\n",
       "<style scoped>\n",
       "    .dataframe tbody tr th:only-of-type {\n",
       "        vertical-align: middle;\n",
       "    }\n",
       "\n",
       "    .dataframe tbody tr th {\n",
       "        vertical-align: top;\n",
       "    }\n",
       "\n",
       "    .dataframe thead th {\n",
       "        text-align: right;\n",
       "    }\n",
       "</style>\n",
       "<table border=\"1\" class=\"dataframe\">\n",
       "  <thead>\n",
       "    <tr style=\"text-align: right;\">\n",
       "      <th></th>\n",
       "      <th>rev</th>\n",
       "      <th>student_id</th>\n",
       "    </tr>\n",
       "  </thead>\n",
       "  <tbody>\n",
       "    <tr>\n",
       "      <th>24</th>\n",
       "      <td>1900.0000</td>\n",
       "      <td>97</td>\n",
       "    </tr>\n",
       "    <tr>\n",
       "      <th>1</th>\n",
       "      <td>290.0000</td>\n",
       "      <td>94</td>\n",
       "    </tr>\n",
       "    <tr>\n",
       "      <th>8</th>\n",
       "      <td>690.0000</td>\n",
       "      <td>78</td>\n",
       "    </tr>\n",
       "    <tr>\n",
       "      <th>0</th>\n",
       "      <td>199.0000</td>\n",
       "      <td>46</td>\n",
       "    </tr>\n",
       "    <tr>\n",
       "      <th>13</th>\n",
       "      <td>990.0000</td>\n",
       "      <td>41</td>\n",
       "    </tr>\n",
       "    <tr>\n",
       "      <th>25</th>\n",
       "      <td>1900.0001</td>\n",
       "      <td>36</td>\n",
       "    </tr>\n",
       "    <tr>\n",
       "      <th>10</th>\n",
       "      <td>840.0000</td>\n",
       "      <td>27</td>\n",
       "    </tr>\n",
       "    <tr>\n",
       "      <th>16</th>\n",
       "      <td>1140.0000</td>\n",
       "      <td>25</td>\n",
       "    </tr>\n",
       "    <tr>\n",
       "      <th>4</th>\n",
       "      <td>580.0000</td>\n",
       "      <td>15</td>\n",
       "    </tr>\n",
       "    <tr>\n",
       "      <th>5</th>\n",
       "      <td>590.0000</td>\n",
       "      <td>11</td>\n",
       "    </tr>\n",
       "    <tr>\n",
       "      <th>2</th>\n",
       "      <td>398.0000</td>\n",
       "      <td>9</td>\n",
       "    </tr>\n",
       "    <tr>\n",
       "      <th>21</th>\n",
       "      <td>1530.0000</td>\n",
       "      <td>8</td>\n",
       "    </tr>\n",
       "    <tr>\n",
       "      <th>11</th>\n",
       "      <td>870.0000</td>\n",
       "      <td>6</td>\n",
       "    </tr>\n",
       "    <tr>\n",
       "      <th>37</th>\n",
       "      <td>3660.0000</td>\n",
       "      <td>5</td>\n",
       "    </tr>\n",
       "    <tr>\n",
       "      <th>34</th>\n",
       "      <td>2910.0000</td>\n",
       "      <td>4</td>\n",
       "    </tr>\n",
       "    <tr>\n",
       "      <th>27</th>\n",
       "      <td>1980.0000</td>\n",
       "      <td>4</td>\n",
       "    </tr>\n",
       "    <tr>\n",
       "      <th>32</th>\n",
       "      <td>2890.0000</td>\n",
       "      <td>4</td>\n",
       "    </tr>\n",
       "    <tr>\n",
       "      <th>28</th>\n",
       "      <td>2099.0000</td>\n",
       "      <td>3</td>\n",
       "    </tr>\n",
       "    <tr>\n",
       "      <th>17</th>\n",
       "      <td>1160.0000</td>\n",
       "      <td>3</td>\n",
       "    </tr>\n",
       "    <tr>\n",
       "      <th>3</th>\n",
       "      <td>489.0000</td>\n",
       "      <td>3</td>\n",
       "    </tr>\n",
       "    <tr>\n",
       "      <th>30</th>\n",
       "      <td>2220.0000</td>\n",
       "      <td>2</td>\n",
       "    </tr>\n",
       "    <tr>\n",
       "      <th>18</th>\n",
       "      <td>1180.0000</td>\n",
       "      <td>2</td>\n",
       "    </tr>\n",
       "    <tr>\n",
       "      <th>31</th>\n",
       "      <td>2820.0000</td>\n",
       "      <td>2</td>\n",
       "    </tr>\n",
       "    <tr>\n",
       "      <th>29</th>\n",
       "      <td>2190.0000</td>\n",
       "      <td>1</td>\n",
       "    </tr>\n",
       "    <tr>\n",
       "      <th>33</th>\n",
       "      <td>2900.0000</td>\n",
       "      <td>1</td>\n",
       "    </tr>\n",
       "    <tr>\n",
       "      <th>36</th>\n",
       "      <td>3260.0000</td>\n",
       "      <td>1</td>\n",
       "    </tr>\n",
       "    <tr>\n",
       "      <th>35</th>\n",
       "      <td>3040.0000</td>\n",
       "      <td>1</td>\n",
       "    </tr>\n",
       "    <tr>\n",
       "      <th>19</th>\n",
       "      <td>1339.0000</td>\n",
       "      <td>1</td>\n",
       "    </tr>\n",
       "    <tr>\n",
       "      <th>26</th>\n",
       "      <td>1968.0000</td>\n",
       "      <td>1</td>\n",
       "    </tr>\n",
       "    <tr>\n",
       "      <th>23</th>\n",
       "      <td>1830.0000</td>\n",
       "      <td>1</td>\n",
       "    </tr>\n",
       "    <tr>\n",
       "      <th>22</th>\n",
       "      <td>1729.0000</td>\n",
       "      <td>1</td>\n",
       "    </tr>\n",
       "    <tr>\n",
       "      <th>20</th>\n",
       "      <td>1388.0000</td>\n",
       "      <td>1</td>\n",
       "    </tr>\n",
       "    <tr>\n",
       "      <th>15</th>\n",
       "      <td>1050.0000</td>\n",
       "      <td>1</td>\n",
       "    </tr>\n",
       "    <tr>\n",
       "      <th>14</th>\n",
       "      <td>1039.0000</td>\n",
       "      <td>1</td>\n",
       "    </tr>\n",
       "    <tr>\n",
       "      <th>12</th>\n",
       "      <td>880.0000</td>\n",
       "      <td>1</td>\n",
       "    </tr>\n",
       "    <tr>\n",
       "      <th>9</th>\n",
       "      <td>796.0000</td>\n",
       "      <td>1</td>\n",
       "    </tr>\n",
       "    <tr>\n",
       "      <th>7</th>\n",
       "      <td>630.0000</td>\n",
       "      <td>1</td>\n",
       "    </tr>\n",
       "    <tr>\n",
       "      <th>6</th>\n",
       "      <td>597.0000</td>\n",
       "      <td>1</td>\n",
       "    </tr>\n",
       "    <tr>\n",
       "      <th>38</th>\n",
       "      <td>4650.0000</td>\n",
       "      <td>1</td>\n",
       "    </tr>\n",
       "  </tbody>\n",
       "</table>\n",
       "</div>"
      ],
      "text/plain": [
       "          rev  student_id\n",
       "24  1900.0000          97\n",
       "1    290.0000          94\n",
       "8    690.0000          78\n",
       "0    199.0000          46\n",
       "13   990.0000          41\n",
       "25  1900.0001          36\n",
       "10   840.0000          27\n",
       "16  1140.0000          25\n",
       "4    580.0000          15\n",
       "5    590.0000          11\n",
       "2    398.0000           9\n",
       "21  1530.0000           8\n",
       "11   870.0000           6\n",
       "37  3660.0000           5\n",
       "34  2910.0000           4\n",
       "27  1980.0000           4\n",
       "32  2890.0000           4\n",
       "28  2099.0000           3\n",
       "17  1160.0000           3\n",
       "3    489.0000           3\n",
       "30  2220.0000           2\n",
       "18  1180.0000           2\n",
       "31  2820.0000           2\n",
       "29  2190.0000           1\n",
       "33  2900.0000           1\n",
       "36  3260.0000           1\n",
       "35  3040.0000           1\n",
       "19  1339.0000           1\n",
       "26  1968.0000           1\n",
       "23  1830.0000           1\n",
       "22  1729.0000           1\n",
       "20  1388.0000           1\n",
       "15  1050.0000           1\n",
       "14  1039.0000           1\n",
       "12   880.0000           1\n",
       "9    796.0000           1\n",
       "7    630.0000           1\n",
       "6    597.0000           1\n",
       "38  4650.0000           1"
      ]
     },
     "execution_count": 41,
     "metadata": {},
     "output_type": "execute_result"
    }
   ],
   "source": [
    "# Группировка количества покупок по сумме покупки\n",
    "full_info_test.groupby('rev', as_index = False) \\\n",
    "    .agg({'student_id':'count'}) \\\n",
    "    .sort_values('student_id', ascending = False)"
   ]
  },
  {
   "cell_type": "markdown",
   "metadata": {},
   "source": [
    "Выделяются первые три суммы: 1900; 290; 690. Количество покупок на такую сумму отрывается от прочих сумм.\n",
    "\n",
    "Можно предположить, что имеет место быть скидка или какая-то маркетинговая кампания, что может сказаться на достоверности выводов эксперимента. \n",
    "\n",
    "Посмотрим то же самое в разрезе групп:"
   ]
  },
  {
   "cell_type": "code",
   "execution_count": 42,
   "metadata": {},
   "outputs": [
    {
     "data": {
      "text/html": [
       "<div>\n",
       "<style scoped>\n",
       "    .dataframe tbody tr th:only-of-type {\n",
       "        vertical-align: middle;\n",
       "    }\n",
       "\n",
       "    .dataframe tbody tr th {\n",
       "        vertical-align: top;\n",
       "    }\n",
       "\n",
       "    .dataframe thead th {\n",
       "        text-align: right;\n",
       "    }\n",
       "</style>\n",
       "<table border=\"1\" class=\"dataframe\">\n",
       "  <thead>\n",
       "    <tr style=\"text-align: right;\">\n",
       "      <th></th>\n",
       "      <th>rev</th>\n",
       "      <th>student_id</th>\n",
       "    </tr>\n",
       "  </thead>\n",
       "  <tbody>\n",
       "    <tr>\n",
       "      <th>1</th>\n",
       "      <td>290.0</td>\n",
       "      <td>25</td>\n",
       "    </tr>\n",
       "    <tr>\n",
       "      <th>4</th>\n",
       "      <td>580.0</td>\n",
       "      <td>6</td>\n",
       "    </tr>\n",
       "    <tr>\n",
       "      <th>0</th>\n",
       "      <td>199.0</td>\n",
       "      <td>5</td>\n",
       "    </tr>\n",
       "    <tr>\n",
       "      <th>9</th>\n",
       "      <td>990.0</td>\n",
       "      <td>5</td>\n",
       "    </tr>\n",
       "    <tr>\n",
       "      <th>5</th>\n",
       "      <td>590.0</td>\n",
       "      <td>5</td>\n",
       "    </tr>\n",
       "    <tr>\n",
       "      <th>6</th>\n",
       "      <td>690.0</td>\n",
       "      <td>4</td>\n",
       "    </tr>\n",
       "    <tr>\n",
       "      <th>14</th>\n",
       "      <td>1530.0</td>\n",
       "      <td>3</td>\n",
       "    </tr>\n",
       "    <tr>\n",
       "      <th>22</th>\n",
       "      <td>3660.0</td>\n",
       "      <td>3</td>\n",
       "    </tr>\n",
       "    <tr>\n",
       "      <th>7</th>\n",
       "      <td>840.0</td>\n",
       "      <td>3</td>\n",
       "    </tr>\n",
       "    <tr>\n",
       "      <th>3</th>\n",
       "      <td>489.0</td>\n",
       "      <td>2</td>\n",
       "    </tr>\n",
       "    <tr>\n",
       "      <th>12</th>\n",
       "      <td>1160.0</td>\n",
       "      <td>2</td>\n",
       "    </tr>\n",
       "    <tr>\n",
       "      <th>18</th>\n",
       "      <td>2820.0</td>\n",
       "      <td>2</td>\n",
       "    </tr>\n",
       "    <tr>\n",
       "      <th>21</th>\n",
       "      <td>2910.0</td>\n",
       "      <td>2</td>\n",
       "    </tr>\n",
       "    <tr>\n",
       "      <th>11</th>\n",
       "      <td>1140.0</td>\n",
       "      <td>2</td>\n",
       "    </tr>\n",
       "    <tr>\n",
       "      <th>8</th>\n",
       "      <td>870.0</td>\n",
       "      <td>1</td>\n",
       "    </tr>\n",
       "    <tr>\n",
       "      <th>10</th>\n",
       "      <td>1039.0</td>\n",
       "      <td>1</td>\n",
       "    </tr>\n",
       "    <tr>\n",
       "      <th>13</th>\n",
       "      <td>1180.0</td>\n",
       "      <td>1</td>\n",
       "    </tr>\n",
       "    <tr>\n",
       "      <th>2</th>\n",
       "      <td>398.0</td>\n",
       "      <td>1</td>\n",
       "    </tr>\n",
       "    <tr>\n",
       "      <th>15</th>\n",
       "      <td>1830.0</td>\n",
       "      <td>1</td>\n",
       "    </tr>\n",
       "    <tr>\n",
       "      <th>16</th>\n",
       "      <td>1980.0</td>\n",
       "      <td>1</td>\n",
       "    </tr>\n",
       "    <tr>\n",
       "      <th>17</th>\n",
       "      <td>2220.0</td>\n",
       "      <td>1</td>\n",
       "    </tr>\n",
       "    <tr>\n",
       "      <th>19</th>\n",
       "      <td>2890.0</td>\n",
       "      <td>1</td>\n",
       "    </tr>\n",
       "    <tr>\n",
       "      <th>20</th>\n",
       "      <td>2900.0</td>\n",
       "      <td>1</td>\n",
       "    </tr>\n",
       "  </tbody>\n",
       "</table>\n",
       "</div>"
      ],
      "text/plain": [
       "       rev  student_id\n",
       "1    290.0          25\n",
       "4    580.0           6\n",
       "0    199.0           5\n",
       "9    990.0           5\n",
       "5    590.0           5\n",
       "6    690.0           4\n",
       "14  1530.0           3\n",
       "22  3660.0           3\n",
       "7    840.0           3\n",
       "3    489.0           2\n",
       "12  1160.0           2\n",
       "18  2820.0           2\n",
       "21  2910.0           2\n",
       "11  1140.0           2\n",
       "8    870.0           1\n",
       "10  1039.0           1\n",
       "13  1180.0           1\n",
       "2    398.0           1\n",
       "15  1830.0           1\n",
       "16  1980.0           1\n",
       "17  2220.0           1\n",
       "19  2890.0           1\n",
       "20  2900.0           1"
      ]
     },
     "execution_count": 42,
     "metadata": {},
     "output_type": "execute_result"
    }
   ],
   "source": [
    "full_info_test.query('grp == \"A\"') \\\n",
    "    .groupby('rev', as_index=False) \\\n",
    "    .agg({'student_id': 'count'}) \\\n",
    "    .sort_values('student_id', ascending=False)"
   ]
  },
  {
   "cell_type": "code",
   "execution_count": 43,
   "metadata": {},
   "outputs": [
    {
     "data": {
      "text/html": [
       "<div>\n",
       "<style scoped>\n",
       "    .dataframe tbody tr th:only-of-type {\n",
       "        vertical-align: middle;\n",
       "    }\n",
       "\n",
       "    .dataframe tbody tr th {\n",
       "        vertical-align: top;\n",
       "    }\n",
       "\n",
       "    .dataframe thead th {\n",
       "        text-align: right;\n",
       "    }\n",
       "</style>\n",
       "<table border=\"1\" class=\"dataframe\">\n",
       "  <thead>\n",
       "    <tr style=\"text-align: right;\">\n",
       "      <th></th>\n",
       "      <th>rev</th>\n",
       "      <th>student_id</th>\n",
       "    </tr>\n",
       "  </thead>\n",
       "  <tbody>\n",
       "    <tr>\n",
       "      <th>20</th>\n",
       "      <td>1900.0000</td>\n",
       "      <td>93</td>\n",
       "    </tr>\n",
       "    <tr>\n",
       "      <th>1</th>\n",
       "      <td>290.0000</td>\n",
       "      <td>45</td>\n",
       "    </tr>\n",
       "    <tr>\n",
       "      <th>21</th>\n",
       "      <td>1900.0001</td>\n",
       "      <td>35</td>\n",
       "    </tr>\n",
       "    <tr>\n",
       "      <th>0</th>\n",
       "      <td>199.0000</td>\n",
       "      <td>27</td>\n",
       "    </tr>\n",
       "    <tr>\n",
       "      <th>9</th>\n",
       "      <td>840.0000</td>\n",
       "      <td>21</td>\n",
       "    </tr>\n",
       "    <tr>\n",
       "      <th>12</th>\n",
       "      <td>990.0000</td>\n",
       "      <td>17</td>\n",
       "    </tr>\n",
       "    <tr>\n",
       "      <th>7</th>\n",
       "      <td>690.0000</td>\n",
       "      <td>13</td>\n",
       "    </tr>\n",
       "    <tr>\n",
       "      <th>14</th>\n",
       "      <td>1140.0000</td>\n",
       "      <td>9</td>\n",
       "    </tr>\n",
       "    <tr>\n",
       "      <th>2</th>\n",
       "      <td>398.0000</td>\n",
       "      <td>6</td>\n",
       "    </tr>\n",
       "    <tr>\n",
       "      <th>5</th>\n",
       "      <td>590.0000</td>\n",
       "      <td>6</td>\n",
       "    </tr>\n",
       "    <tr>\n",
       "      <th>4</th>\n",
       "      <td>580.0000</td>\n",
       "      <td>5</td>\n",
       "    </tr>\n",
       "    <tr>\n",
       "      <th>10</th>\n",
       "      <td>870.0000</td>\n",
       "      <td>5</td>\n",
       "    </tr>\n",
       "    <tr>\n",
       "      <th>18</th>\n",
       "      <td>1530.0000</td>\n",
       "      <td>5</td>\n",
       "    </tr>\n",
       "    <tr>\n",
       "      <th>24</th>\n",
       "      <td>2099.0000</td>\n",
       "      <td>3</td>\n",
       "    </tr>\n",
       "    <tr>\n",
       "      <th>27</th>\n",
       "      <td>2890.0000</td>\n",
       "      <td>3</td>\n",
       "    </tr>\n",
       "    <tr>\n",
       "      <th>31</th>\n",
       "      <td>3660.0000</td>\n",
       "      <td>2</td>\n",
       "    </tr>\n",
       "    <tr>\n",
       "      <th>23</th>\n",
       "      <td>1980.0000</td>\n",
       "      <td>2</td>\n",
       "    </tr>\n",
       "    <tr>\n",
       "      <th>28</th>\n",
       "      <td>2910.0000</td>\n",
       "      <td>2</td>\n",
       "    </tr>\n",
       "    <tr>\n",
       "      <th>26</th>\n",
       "      <td>2220.0000</td>\n",
       "      <td>1</td>\n",
       "    </tr>\n",
       "    <tr>\n",
       "      <th>25</th>\n",
       "      <td>2190.0000</td>\n",
       "      <td>1</td>\n",
       "    </tr>\n",
       "    <tr>\n",
       "      <th>29</th>\n",
       "      <td>3040.0000</td>\n",
       "      <td>1</td>\n",
       "    </tr>\n",
       "    <tr>\n",
       "      <th>30</th>\n",
       "      <td>3260.0000</td>\n",
       "      <td>1</td>\n",
       "    </tr>\n",
       "    <tr>\n",
       "      <th>16</th>\n",
       "      <td>1339.0000</td>\n",
       "      <td>1</td>\n",
       "    </tr>\n",
       "    <tr>\n",
       "      <th>22</th>\n",
       "      <td>1968.0000</td>\n",
       "      <td>1</td>\n",
       "    </tr>\n",
       "    <tr>\n",
       "      <th>19</th>\n",
       "      <td>1729.0000</td>\n",
       "      <td>1</td>\n",
       "    </tr>\n",
       "    <tr>\n",
       "      <th>17</th>\n",
       "      <td>1388.0000</td>\n",
       "      <td>1</td>\n",
       "    </tr>\n",
       "    <tr>\n",
       "      <th>15</th>\n",
       "      <td>1160.0000</td>\n",
       "      <td>1</td>\n",
       "    </tr>\n",
       "    <tr>\n",
       "      <th>13</th>\n",
       "      <td>1050.0000</td>\n",
       "      <td>1</td>\n",
       "    </tr>\n",
       "    <tr>\n",
       "      <th>11</th>\n",
       "      <td>880.0000</td>\n",
       "      <td>1</td>\n",
       "    </tr>\n",
       "    <tr>\n",
       "      <th>8</th>\n",
       "      <td>796.0000</td>\n",
       "      <td>1</td>\n",
       "    </tr>\n",
       "    <tr>\n",
       "      <th>6</th>\n",
       "      <td>597.0000</td>\n",
       "      <td>1</td>\n",
       "    </tr>\n",
       "    <tr>\n",
       "      <th>3</th>\n",
       "      <td>489.0000</td>\n",
       "      <td>1</td>\n",
       "    </tr>\n",
       "    <tr>\n",
       "      <th>32</th>\n",
       "      <td>4650.0000</td>\n",
       "      <td>1</td>\n",
       "    </tr>\n",
       "  </tbody>\n",
       "</table>\n",
       "</div>"
      ],
      "text/plain": [
       "          rev  student_id\n",
       "20  1900.0000          93\n",
       "1    290.0000          45\n",
       "21  1900.0001          35\n",
       "0    199.0000          27\n",
       "9    840.0000          21\n",
       "12   990.0000          17\n",
       "7    690.0000          13\n",
       "14  1140.0000           9\n",
       "2    398.0000           6\n",
       "5    590.0000           6\n",
       "4    580.0000           5\n",
       "10   870.0000           5\n",
       "18  1530.0000           5\n",
       "24  2099.0000           3\n",
       "27  2890.0000           3\n",
       "31  3660.0000           2\n",
       "23  1980.0000           2\n",
       "28  2910.0000           2\n",
       "26  2220.0000           1\n",
       "25  2190.0000           1\n",
       "29  3040.0000           1\n",
       "30  3260.0000           1\n",
       "16  1339.0000           1\n",
       "22  1968.0000           1\n",
       "19  1729.0000           1\n",
       "17  1388.0000           1\n",
       "15  1160.0000           1\n",
       "13  1050.0000           1\n",
       "11   880.0000           1\n",
       "8    796.0000           1\n",
       "6    597.0000           1\n",
       "3    489.0000           1\n",
       "32  4650.0000           1"
      ]
     },
     "execution_count": 43,
     "metadata": {},
     "output_type": "execute_result"
    }
   ],
   "source": [
    "full_info_test.query('grp == \"B\"') \\\n",
    "    .groupby('rev', as_index=False) \\\n",
    "    .agg({'student_id': 'count'}) \\\n",
    "    .sort_values('student_id', ascending=False)"
   ]
  },
  {
   "cell_type": "markdown",
   "metadata": {},
   "source": [
    "Явно видно, что в группе с базовым методом оплаты нет варианта суммы покупки == 1900, в то время как в группе с новым методом оплаты - есть и много. \n",
    "С имеющимися условиями сложно сказать причину такой разбивки. Возможно, существует какая-то партнерская программа с МПС (например, МИР), которая предполагает кэшбэк / бонусы / иное. \n",
    "\n",
    "**Видится два дальнейших пути:**\n",
    "1. Необходимо получить у коллег детали по поводу ситуации с одинаковыми чеками. Возможно, имеет место быть проблема взаимодействия отделов и у нашего теоритического подразделения не было информации о запуске некой акции подразделением маркетинга. В таком случае, чистота эксперимента под сомнением, его необходимо тщательнее подготовить во взаимодействии с остальными подразделениями и провести заново.\n",
    "\n",
    "2. Продолжить эксперимент, понимая его ограниченную полезность из-за сложности выявления в данный момент, что именно влияет на показатели: новая оплата или акция. \n",
    "\n",
    "Для академических целей и отработки навыков, выберем п.2, однако в реальной обстановке разумнее выбрать п.1 и детальнее разобраться в ситуации."
   ]
  },
  {
   "cell_type": "code",
   "execution_count": 44,
   "metadata": {},
   "outputs": [
    {
     "data": {
      "text/html": [
       "<div>\n",
       "<style scoped>\n",
       "    .dataframe tbody tr th:only-of-type {\n",
       "        vertical-align: middle;\n",
       "    }\n",
       "\n",
       "    .dataframe tbody tr th {\n",
       "        vertical-align: top;\n",
       "    }\n",
       "\n",
       "    .dataframe thead th {\n",
       "        text-align: right;\n",
       "    }\n",
       "</style>\n",
       "<table border=\"1\" class=\"dataframe\">\n",
       "  <thead>\n",
       "    <tr style=\"text-align: right;\">\n",
       "      <th></th>\n",
       "      <th>grp</th>\n",
       "      <th>student_id</th>\n",
       "    </tr>\n",
       "  </thead>\n",
       "  <tbody>\n",
       "    <tr>\n",
       "      <th>0</th>\n",
       "      <td>A</td>\n",
       "      <td>1538</td>\n",
       "    </tr>\n",
       "    <tr>\n",
       "      <th>1</th>\n",
       "      <td>B</td>\n",
       "      <td>6803</td>\n",
       "    </tr>\n",
       "  </tbody>\n",
       "</table>\n",
       "</div>"
      ],
      "text/plain": [
       "  grp  student_id\n",
       "0   A        1538\n",
       "1   B        6803"
      ]
     },
     "execution_count": 44,
     "metadata": {},
     "output_type": "execute_result"
    }
   ],
   "source": [
    "# Вывод количества пользователей в каждой из групп \n",
    "full_info_test.groupby('grp', as_index=False) \\\n",
    "    .agg({'student_id': 'count'})"
   ]
  },
  {
   "cell_type": "markdown",
   "metadata": {},
   "source": [
    "Видна диспропорция количества пользователей в группах"
   ]
  },
  {
   "cell_type": "code",
   "execution_count": 45,
   "metadata": {},
   "outputs": [],
   "source": [
    "# Создание df с фильтром на группу А для простоты дальнейшего использования\n",
    "A_group_full_info_test = full_info_test.query('grp == \"A\"').fillna(0)"
   ]
  },
  {
   "cell_type": "code",
   "execution_count": 46,
   "metadata": {},
   "outputs": [],
   "source": [
    "# Создание df с фильтром на группу B для простоты дальнейшего использования\n",
    "B_group_full_info_test = full_info_test.query('grp == \"B\"').fillna(0)"
   ]
  },
  {
   "cell_type": "markdown",
   "metadata": {},
   "source": [
    "#### 2. Сравнение метрик групп. Формулировка и проверка гипотез\n",
    "\n",
    "Определим метрики, которые будут проанализированы для вывода о результатах тестирования:\n",
    "- Средняя сумма покупки среди плативших пользователей\n",
    "- Конверсия из посетителей платформы в покупку\n",
    "\n",
    "Необходимо:\n",
    "- посчитать показатели для обеих групп\n",
    "- оценить распределение \n",
    "- выбрать критерий для подтверждения гипотез значимости отличия\n",
    "- сделать вывод"
   ]
  },
  {
   "cell_type": "code",
   "execution_count": 47,
   "metadata": {},
   "outputs": [
    {
     "data": {
      "text/plain": [
       "5.071521456436931"
      ]
     },
     "execution_count": 47,
     "metadata": {},
     "output_type": "execute_result"
    }
   ],
   "source": [
    "# Конверсия зашедших на платформу в покупку для группы А\n",
    "CR_A = A_group_full_info_test.query('rev > 0').student_id.count() / A_group_full_info_test.student_id.count()*100\n",
    "CR_A"
   ]
  },
  {
   "cell_type": "code",
   "execution_count": 48,
   "metadata": {},
   "outputs": [
    {
     "data": {
      "text/plain": [
       "4.615610759958842"
      ]
     },
     "execution_count": 48,
     "metadata": {},
     "output_type": "execute_result"
    }
   ],
   "source": [
    "# Конверсия зашедших на платформу в покупку для группы B\n",
    "CR_B = B_group_full_info_test.query('rev > 0').student_id.count() / B_group_full_info_test.student_id.count()*100\n",
    "CR_B"
   ]
  },
  {
   "cell_type": "markdown",
   "metadata": {},
   "source": [
    "Согласно расчетам выше, конверсия посетителей, имевших новый метод оплаты, снизилась относительно старой версии.\n",
    "\n",
    "Можно предположить, что новый метод оплаты не оказал положительного влияния на клиентов. Более того, возможно он стал менее удобным (меньше клиентов доходит до покупки). \n",
    "\n",
    "Возможно, есть связь с обнаруженной раньше ошибкой отнесения клиентов с оплатой к посетителям. "
   ]
  },
  {
   "cell_type": "code",
   "execution_count": 49,
   "metadata": {},
   "outputs": [
    {
     "data": {
      "text/plain": [
       "933.5897435897435"
      ]
     },
     "execution_count": 49,
     "metadata": {},
     "output_type": "execute_result"
    }
   ],
   "source": [
    "# Средний чек покупки для группы A (исключены ID без покупок)\n",
    "mean_A = A_group_full_info_test.query('rev > 0').rev.mean()\n",
    "mean_A"
   ]
  },
  {
   "cell_type": "code",
   "execution_count": 50,
   "metadata": {},
   "outputs": [
    {
     "data": {
      "text/plain": [
       "1257.878992038217"
      ]
     },
     "execution_count": 50,
     "metadata": {},
     "output_type": "execute_result"
    }
   ],
   "source": [
    "# Средний чек покупки для группы B (исключены ID без покупок)\n",
    "mean_B = B_group_full_info_test.query('rev > 0').rev.mean()\n",
    "mean_B"
   ]
  },
  {
   "cell_type": "code",
   "execution_count": 51,
   "metadata": {},
   "outputs": [
    {
     "name": "stderr",
     "output_type": "stream",
     "text": [
      "C:\\Users\\Evgeniy\\anaconda3\\lib\\site-packages\\seaborn\\distributions.py:2619: FutureWarning: `distplot` is a deprecated function and will be removed in a future version. Please adapt your code to use either `displot` (a figure-level function with similar flexibility) or `histplot` (an axes-level function for histograms).\n",
      "  warnings.warn(msg, FutureWarning)\n"
     ]
    },
    {
     "data": {
      "text/plain": [
       "<AxesSubplot:xlabel='rev', ylabel='Density'>"
      ]
     },
     "execution_count": 51,
     "metadata": {},
     "output_type": "execute_result"
    },
    {
     "data": {
      "image/png": "[encoded data removed]",
      "text/plain": [
       "<Figure size 640x480 with 1 Axes>"
      ]
     },
     "metadata": {},
     "output_type": "display_data"
    }
   ],
   "source": [
    "# выведем гистограмму распределения значений rev (без включения 0)\n",
    "sns.distplot(A_group_full_info_test.query('rev > 0').rev)"
   ]
  },
  {
   "cell_type": "code",
   "execution_count": 52,
   "metadata": {},
   "outputs": [
    {
     "name": "stderr",
     "output_type": "stream",
     "text": [
      "C:\\Users\\Evgeniy\\anaconda3\\lib\\site-packages\\seaborn\\distributions.py:2619: FutureWarning: `distplot` is a deprecated function and will be removed in a future version. Please adapt your code to use either `displot` (a figure-level function with similar flexibility) or `histplot` (an axes-level function for histograms).\n",
      "  warnings.warn(msg, FutureWarning)\n"
     ]
    },
    {
     "data": {
      "text/plain": [
       "<AxesSubplot:xlabel='rev', ylabel='Density'>"
      ]
     },
     "execution_count": 52,
     "metadata": {},
     "output_type": "execute_result"
    },
    {
     "data": {
      "image/png": "[encoded data removed]",
      "text/plain": [
       "<Figure size 640x480 with 1 Axes>"
      ]
     },
     "metadata": {},
     "output_type": "display_data"
    }
   ],
   "source": [
    "# выведем гистограмму распределения значений rev (без включения 0)\n",
    "sns.distplot(B_group_full_info_test.query('rev > 0').rev)"
   ]
  },
  {
   "cell_type": "markdown",
   "metadata": {},
   "source": [
    "Судя по графикам, распределение не является нормальным. \n",
    "\n",
    "Проверим дополнительно гипотезу о нормальности распределения тестом Шапиро-Уилка и тестом Колмогорова-Смирнова:"
   ]
  },
  {
   "cell_type": "code",
   "execution_count": 53,
   "metadata": {},
   "outputs": [
    {
     "data": {
      "text/plain": [
       "(ShapiroResult(statistic=0.7353235483169556, pvalue=1.4986777097103499e-10),\n",
       " ShapiroResult(statistic=0.8547242879867554, pvalue=1.5438489688266848e-16))"
      ]
     },
     "execution_count": 53,
     "metadata": {},
     "output_type": "execute_result"
    }
   ],
   "source": [
    "# Тест Шапиро-Уилка\n",
    "stats.shapiro(A_group_full_info_test.query('rev>0').rev), stats.shapiro(B_group_full_info_test.query('rev>0').rev)"
   ]
  },
  {
   "cell_type": "code",
   "execution_count": 54,
   "metadata": {},
   "outputs": [
    {
     "data": {
      "text/plain": [
       "(KstestResult(statistic=1.0, pvalue=0.0),\n",
       " KstestResult(statistic=1.0, pvalue=0.0))"
      ]
     },
     "execution_count": 54,
     "metadata": {},
     "output_type": "execute_result"
    }
   ],
   "source": [
    "# Тест Колмогорова-Смирнова\n",
    "stats.kstest(A_group_full_info_test.query('rev>0').rev, \"norm\", alternative='less') \\\n",
    ",stats.kstest(B_group_full_info_test.query('rev>0').rev, \"norm\", alternative='less')"
   ]
  },
  {
   "cell_type": "markdown",
   "metadata": {},
   "source": [
    "Проверка нормальности:\n",
    "\n",
    "- p-value теста Ш-У < 0.05 => выборки взяты из ГС, которая имеет распределение, отличающееся от нормального\n",
    "- p-value теста К-С < 0.05 => отклонение от нормального распределения существенное"
   ]
  },
  {
   "cell_type": "markdown",
   "metadata": {},
   "source": [
    "2.1 Средняя сумма покупки\n",
    "\n",
    "**Выбор метода для сравнения значений из двух групп**\n",
    "\n",
    "- t-тест. Необходимо 1) иметь внутри групп примерно одинаковые дисперсии т.к. размеры групп сильно отличаются; 2) Необходимо проверить нормальность распределения выборочных средних\n",
    "- U-критерий Манна-Уитни. Желательно не иметь повторяющихся значений\n",
    "- Bootstrap"
   ]
  },
  {
   "cell_type": "code",
   "execution_count": 55,
   "metadata": {},
   "outputs": [
    {
     "data": {
      "text/plain": [
       "(3.075681699981606, 0.08025675761347022)"
      ]
     },
     "execution_count": 55,
     "metadata": {},
     "output_type": "execute_result"
    }
   ],
   "source": [
    "# Проверка схожести дисперсий\n",
    "stat, p = stats.levene(A_group_full_info_test.query('rev > 0').rev, B_group_full_info_test.query('rev > 0').rev)\n",
    "stat, p"
   ]
  },
  {
   "cell_type": "code",
   "execution_count": 56,
   "metadata": {},
   "outputs": [
    {
     "data": {
      "text/plain": [
       "MannwhitneyuResult(statistic=9001.0, pvalue=0.0002511393831406922)"
      ]
     },
     "execution_count": 56,
     "metadata": {},
     "output_type": "execute_result"
    }
   ],
   "source": [
    "stats.mannwhitneyu(A_group_full_info_test.query('rev > 0').rev, B_group_full_info_test.query('rev > 0').rev)"
   ]
  },
  {
   "cell_type": "markdown",
   "metadata": {},
   "source": [
    "- Критерий Манна-Уитни. **Не походит** из-за обнаруженных ранее повторяющихся сумм (290 и 1900)\n",
    "\n",
    "- T-тест. p-value теста Левена > 0.05 => Принимаем гипотезу о равенстве дисперсий. В то же время, необходимо проверить, что при повторном множественном взятии средних значений, их распределение будет нормальным. У нас нет возможности делать повторные выборки для определения распределения средних, поэтому оценим это имеющейся выборке, превратив ее во много выборок и посчитав среднее для всех.\n",
    "\n",
    "**Т.о., применим метод Bootstrap**\n",
    "\n",
    "ГИПОТЕЗА 1\n",
    "\n",
    "Н0 - среднее значение средней суммы оплаты среди платящих клиентов в обеих группах равно\n",
    "\n",
    "Н1 - среднее значение средней суммы оплаты среди платящих клиентов в обеих группах равно"
   ]
  },
  {
   "cell_type": "code",
   "execution_count": 57,
   "metadata": {},
   "outputs": [],
   "source": [
    "# Объявим функцию, которая позволит проверять гипотезы с помощью бутстрапа\n",
    "def get_bootstrap(\n",
    "    data_column_1, # числовые значения первой выборки\n",
    "    data_column_2, # числовые значения второй выборки\n",
    "    boot_it = 1000, # количество бутстрэп-подвыборок\n",
    "    statistic = np.mean, # интересующая нас статистика\n",
    "    bootstrap_conf_level = 0.95 # уровень значимости\n",
    "):\n",
    "    boot_len = max([len(data_column_1), len(data_column_2)])\n",
    "    boot_data = []\n",
    "    for i in tqdm(range(boot_it)): # извлекаем подвыборки\n",
    "        samples_1 = data_column_1.sample(\n",
    "            boot_len, \n",
    "            replace = True # параметр возвращения\n",
    "        ).values\n",
    "        \n",
    "        samples_2 = data_column_2.sample(\n",
    "            boot_len, \n",
    "            replace = True\n",
    "        ).values\n",
    "        \n",
    "        boot_data.append(statistic(samples_1-samples_2)) # mean() - применяем статистику\n",
    "        \n",
    "    pd_boot_data = pd.DataFrame(boot_data)\n",
    "        \n",
    "    left_quant = (1 - bootstrap_conf_level)/2\n",
    "    right_quant = 1 - (1 - bootstrap_conf_level) / 2\n",
    "    ci = pd_boot_data.quantile([left_quant, right_quant])\n",
    "        \n",
    "    p_1 = stats.norm.cdf(\n",
    "        x = 0, \n",
    "        loc = np.mean(boot_data), \n",
    "        scale = np.std(boot_data)\n",
    "    )\n",
    "    p_2 = stats.norm.cdf(\n",
    "        x = 0, \n",
    "        loc = -np.mean(boot_data), \n",
    "        scale = np.std(boot_data)\n",
    "    )\n",
    "    p_value = min(p_1, p_2) * 2\n",
    "        \n",
    "    # Визуализация\n",
    "    plt.hist(pd_boot_data[0], bins = 50)\n",
    "    \n",
    "    plt.style.use('ggplot')\n",
    "    plt.vlines(ci,ymin=0,ymax=50,linestyle='--')\n",
    "    plt.xlabel('boot_data')\n",
    "    plt.ylabel('frequency')\n",
    "    plt.title(\"Histogram of boot_data\")\n",
    "    plt.show()\n",
    "       \n",
    "    return {\"boot_data\": boot_data, \n",
    "            \"ci\": ci, \n",
    "            \"p_value\": p_value}"
   ]
  },
  {
   "cell_type": "code",
   "execution_count": 58,
   "metadata": {
    "scrolled": true
   },
   "outputs": [
    {
     "data": {
      "application/vnd.jupyter.widget-view+json": {
       "model_id": "a2c628d144694624abc70aa895baacf7",
       "version_major": 2,
       "version_minor": 0
      },
      "text/plain": [
       "  0%|          | 0/1000 [00:00<?, ?it/s]"
      ]
     },
     "metadata": {},
     "output_type": "display_data"
    },
    {
     "data": {
      "image/png": "[encoded data removed]",
      "text/plain": [
       "<Figure size 640x480 with 1 Axes>"
      ]
     },
     "metadata": {},
     "output_type": "display_data"
    }
   ],
   "source": [
    "booted_data = get_bootstrap(\n",
    "    A_group_full_info_test.query('rev > 0').rev,\n",
    "    B_group_full_info_test.query('rev > 0').rev\n",
    "             )"
   ]
  },
  {
   "cell_type": "code",
   "execution_count": 59,
   "metadata": {},
   "outputs": [
    {
     "data": {
      "text/plain": [
       "3.1818663952165784e-06"
      ]
     },
     "execution_count": 59,
     "metadata": {},
     "output_type": "execute_result"
    }
   ],
   "source": [
    "booted_data['p_value']"
   ]
  },
  {
   "cell_type": "code",
   "execution_count": 60,
   "metadata": {},
   "outputs": [
    {
     "data": {
      "text/html": [
       "<div>\n",
       "<style scoped>\n",
       "    .dataframe tbody tr th:only-of-type {\n",
       "        vertical-align: middle;\n",
       "    }\n",
       "\n",
       "    .dataframe tbody tr th {\n",
       "        vertical-align: top;\n",
       "    }\n",
       "\n",
       "    .dataframe thead th {\n",
       "        text-align: right;\n",
       "    }\n",
       "</style>\n",
       "<table border=\"1\" class=\"dataframe\">\n",
       "  <thead>\n",
       "    <tr style=\"text-align: right;\">\n",
       "      <th></th>\n",
       "      <th>0</th>\n",
       "    </tr>\n",
       "  </thead>\n",
       "  <tbody>\n",
       "    <tr>\n",
       "      <th>0.025</th>\n",
       "      <td>-469.123818</td>\n",
       "    </tr>\n",
       "    <tr>\n",
       "      <th>0.975</th>\n",
       "      <td>-188.332017</td>\n",
       "    </tr>\n",
       "  </tbody>\n",
       "</table>\n",
       "</div>"
      ],
      "text/plain": [
       "                0\n",
       "0.025 -469.123818\n",
       "0.975 -188.332017"
      ]
     },
     "execution_count": 60,
     "metadata": {},
     "output_type": "execute_result"
    }
   ],
   "source": [
    "booted_data['ci']"
   ]
  },
  {
   "cell_type": "markdown",
   "metadata": {},
   "source": [
    "**p-value < 0.05** => **отклоняется нулевая гипотеза** и признается, что средние значения суммы покупки среди плативших пользователей в группах отличаются. \n",
    "\n",
    "**Однако** как было обнаружено ранее, нельзя полагаться на полученные результаты в подобном кейсе в реальной обстановке, т.к. существует неопределенность относительно того, что именно повлияло на изменение среднего чека среди платящих клиентов: новая методика оплаты или некая иная мг акция."
   ]
  },
  {
   "cell_type": "markdown",
   "metadata": {},
   "source": [
    "2.2 Конверсия из посетителей платформы в покупку\n",
    "\n",
    "Сравним значения конверсии для двух групп. \n",
    "\n",
    "Будем использовать метод Хи-квадрат для категориального показателя: пользователь может быть конвертирован, а может нет (1/0)\n",
    "\n",
    "**ГИПОТЕЗА 2**\n",
    "\n",
    "Н0 - На коверсию не влияет изменение метода оплаты\n",
    "\n",
    "Н1 - На коверсию влияет изменение метода оплаты"
   ]
  },
  {
   "cell_type": "code",
   "execution_count": 61,
   "metadata": {},
   "outputs": [],
   "source": [
    "chi_test_df = full_info_test.fillna(0).query('grp != 0')"
   ]
  },
  {
   "cell_type": "code",
   "execution_count": 62,
   "metadata": {},
   "outputs": [],
   "source": [
    "# создадим новый столбец на основе условия: была конверсия или нет\n",
    "chi_test_df['is_converted'] = np.where(chi_test_df.rev > 0, 'convetred', 'not_converted')"
   ]
  },
  {
   "cell_type": "code",
   "execution_count": 63,
   "metadata": {},
   "outputs": [
    {
     "data": {
      "text/html": [
       "<div>\n",
       "<style scoped>\n",
       "    .dataframe tbody tr th:only-of-type {\n",
       "        vertical-align: middle;\n",
       "    }\n",
       "\n",
       "    .dataframe tbody tr th {\n",
       "        vertical-align: top;\n",
       "    }\n",
       "\n",
       "    .dataframe thead th {\n",
       "        text-align: right;\n",
       "    }\n",
       "</style>\n",
       "<table border=\"1\" class=\"dataframe\">\n",
       "  <thead>\n",
       "    <tr style=\"text-align: right;\">\n",
       "      <th></th>\n",
       "      <th>student_id</th>\n",
       "      <th>grp</th>\n",
       "      <th>rev</th>\n",
       "      <th>is_converted</th>\n",
       "    </tr>\n",
       "  </thead>\n",
       "  <tbody>\n",
       "    <tr>\n",
       "      <th>0</th>\n",
       "      <td>1627</td>\n",
       "      <td>A</td>\n",
       "      <td>990.0</td>\n",
       "      <td>convetred</td>\n",
       "    </tr>\n",
       "    <tr>\n",
       "      <th>1</th>\n",
       "      <td>2085</td>\n",
       "      <td>B</td>\n",
       "      <td>0.0</td>\n",
       "      <td>not_converted</td>\n",
       "    </tr>\n",
       "    <tr>\n",
       "      <th>2</th>\n",
       "      <td>2215</td>\n",
       "      <td>B</td>\n",
       "      <td>0.0</td>\n",
       "      <td>not_converted</td>\n",
       "    </tr>\n",
       "    <tr>\n",
       "      <th>3</th>\n",
       "      <td>3391</td>\n",
       "      <td>A</td>\n",
       "      <td>0.0</td>\n",
       "      <td>not_converted</td>\n",
       "    </tr>\n",
       "    <tr>\n",
       "      <th>4</th>\n",
       "      <td>3401</td>\n",
       "      <td>B</td>\n",
       "      <td>0.0</td>\n",
       "      <td>not_converted</td>\n",
       "    </tr>\n",
       "    <tr>\n",
       "      <th>...</th>\n",
       "      <td>...</td>\n",
       "      <td>...</td>\n",
       "      <td>...</td>\n",
       "      <td>...</td>\n",
       "    </tr>\n",
       "    <tr>\n",
       "      <th>8336</th>\n",
       "      <td>5760471</td>\n",
       "      <td>B</td>\n",
       "      <td>0.0</td>\n",
       "      <td>not_converted</td>\n",
       "    </tr>\n",
       "    <tr>\n",
       "      <th>8337</th>\n",
       "      <td>5777081</td>\n",
       "      <td>B</td>\n",
       "      <td>0.0</td>\n",
       "      <td>not_converted</td>\n",
       "    </tr>\n",
       "    <tr>\n",
       "      <th>8338</th>\n",
       "      <td>5870856</td>\n",
       "      <td>A</td>\n",
       "      <td>0.0</td>\n",
       "      <td>not_converted</td>\n",
       "    </tr>\n",
       "    <tr>\n",
       "      <th>8339</th>\n",
       "      <td>5945085</td>\n",
       "      <td>B</td>\n",
       "      <td>0.0</td>\n",
       "      <td>not_converted</td>\n",
       "    </tr>\n",
       "    <tr>\n",
       "      <th>8340</th>\n",
       "      <td>5951797</td>\n",
       "      <td>B</td>\n",
       "      <td>0.0</td>\n",
       "      <td>not_converted</td>\n",
       "    </tr>\n",
       "  </tbody>\n",
       "</table>\n",
       "<p>8341 rows × 4 columns</p>\n",
       "</div>"
      ],
      "text/plain": [
       "      student_id grp    rev   is_converted\n",
       "0           1627   A  990.0      convetred\n",
       "1           2085   B    0.0  not_converted\n",
       "2           2215   B    0.0  not_converted\n",
       "3           3391   A    0.0  not_converted\n",
       "4           3401   B    0.0  not_converted\n",
       "...          ...  ..    ...            ...\n",
       "8336     5760471   B    0.0  not_converted\n",
       "8337     5777081   B    0.0  not_converted\n",
       "8338     5870856   A    0.0  not_converted\n",
       "8339     5945085   B    0.0  not_converted\n",
       "8340     5951797   B    0.0  not_converted\n",
       "\n",
       "[8341 rows x 4 columns]"
      ]
     },
     "execution_count": 63,
     "metadata": {},
     "output_type": "execute_result"
    }
   ],
   "source": [
    "chi_test_df"
   ]
  },
  {
   "cell_type": "code",
   "execution_count": 64,
   "metadata": {},
   "outputs": [],
   "source": [
    "# сгруппируем значения по наименованию группы и результату (конверсия да/нет)\n",
    "chi_test_table = chi_test_df.groupby(['grp', 'is_converted'], as_index=False) \\\n",
    "    .agg({'student_id': 'count'})  \\\n",
    "    .rename(columns=({'student_id': 'stud_count'}))"
   ]
  },
  {
   "cell_type": "code",
   "execution_count": 65,
   "metadata": {},
   "outputs": [
    {
     "data": {
      "text/html": [
       "<div>\n",
       "<style scoped>\n",
       "    .dataframe tbody tr th:only-of-type {\n",
       "        vertical-align: middle;\n",
       "    }\n",
       "\n",
       "    .dataframe tbody tr th {\n",
       "        vertical-align: top;\n",
       "    }\n",
       "\n",
       "    .dataframe thead th {\n",
       "        text-align: right;\n",
       "    }\n",
       "</style>\n",
       "<table border=\"1\" class=\"dataframe\">\n",
       "  <thead>\n",
       "    <tr style=\"text-align: right;\">\n",
       "      <th></th>\n",
       "      <th>grp</th>\n",
       "      <th>is_converted</th>\n",
       "      <th>stud_count</th>\n",
       "    </tr>\n",
       "  </thead>\n",
       "  <tbody>\n",
       "    <tr>\n",
       "      <th>0</th>\n",
       "      <td>A</td>\n",
       "      <td>convetred</td>\n",
       "      <td>78</td>\n",
       "    </tr>\n",
       "    <tr>\n",
       "      <th>1</th>\n",
       "      <td>A</td>\n",
       "      <td>not_converted</td>\n",
       "      <td>1460</td>\n",
       "    </tr>\n",
       "    <tr>\n",
       "      <th>2</th>\n",
       "      <td>B</td>\n",
       "      <td>convetred</td>\n",
       "      <td>314</td>\n",
       "    </tr>\n",
       "    <tr>\n",
       "      <th>3</th>\n",
       "      <td>B</td>\n",
       "      <td>not_converted</td>\n",
       "      <td>6489</td>\n",
       "    </tr>\n",
       "  </tbody>\n",
       "</table>\n",
       "</div>"
      ],
      "text/plain": [
       "  grp   is_converted  stud_count\n",
       "0   A      convetred          78\n",
       "1   A  not_converted        1460\n",
       "2   B      convetred         314\n",
       "3   B  not_converted        6489"
      ]
     },
     "execution_count": 65,
     "metadata": {},
     "output_type": "execute_result"
    }
   ],
   "source": [
    "chi_test_table"
   ]
  },
  {
   "cell_type": "code",
   "execution_count": 66,
   "metadata": {},
   "outputs": [],
   "source": [
    "# Два отдельных df с фильтром по группам\n",
    "a = chi_test_table[chi_test_table['grp'] == 'A']\n",
    "b = chi_test_table[chi_test_table['grp'] == 'B']"
   ]
  },
  {
   "cell_type": "code",
   "execution_count": 67,
   "metadata": {},
   "outputs": [],
   "source": [
    "# посчитаем количество пользователей в каждоый из групп\n",
    "a_converted = a.query('is_converted == \"convetred\"').stud_count.sum()\n",
    "a_not_converted = a.query('is_converted == \"not_converted\"').stud_count.sum()\n",
    "b_converted = b.query('is_converted == \"convetred\"').stud_count.sum()\n",
    "b_not_converted = b.query('is_converted == \"not_converted\"').stud_count.sum()"
   ]
  },
  {
   "cell_type": "code",
   "execution_count": 68,
   "metadata": {},
   "outputs": [],
   "source": [
    "T = np.array([[a_converted, a_not_converted], [b_converted, b_not_converted]])"
   ]
  },
  {
   "cell_type": "code",
   "execution_count": 69,
   "metadata": {},
   "outputs": [
    {
     "data": {
      "text/plain": [
       "array([[  78, 1460],\n",
       "       [ 314, 6489]], dtype=int64)"
      ]
     },
     "execution_count": 69,
     "metadata": {},
     "output_type": "execute_result"
    }
   ],
   "source": [
    "T"
   ]
  },
  {
   "cell_type": "code",
   "execution_count": 70,
   "metadata": {},
   "outputs": [
    {
     "data": {
      "text/plain": [
       "0.44547028437158964"
      ]
     },
     "execution_count": 70,
     "metadata": {},
     "output_type": "execute_result"
    }
   ],
   "source": [
    "# p-value для Chi-square\n",
    "scipy.stats.chi2_contingency(T,correction=False)[1]"
   ]
  },
  {
   "cell_type": "code",
   "execution_count": 71,
   "metadata": {},
   "outputs": [
    {
     "data": {
      "text/plain": [
       "True"
      ]
     },
     "execution_count": 71,
     "metadata": {},
     "output_type": "execute_result"
    }
   ],
   "source": [
    "# Сверка значений с ранее посчитанным CR_A\n",
    "(a_converted / (a_converted + a_not_converted)) * 100 == CR_A"
   ]
  },
  {
   "cell_type": "code",
   "execution_count": 72,
   "metadata": {},
   "outputs": [
    {
     "data": {
      "text/plain": [
       "True"
      ]
     },
     "execution_count": 72,
     "metadata": {},
     "output_type": "execute_result"
    }
   ],
   "source": [
    "# Сверка значений с ранее посчитанным CR_B\n",
    "(b_converted / (b_converted + b_not_converted) * 100) == CR_B"
   ]
  },
  {
   "cell_type": "markdown",
   "metadata": {},
   "source": [
    "**p-value > 0.05** => принимается нулевая гипотеза. Изменение метода оплаты не повлияло конвертирумеость клиентов."
   ]
  },
  {
   "cell_type": "markdown",
   "metadata": {},
   "source": [
    "### 3. Вывод\n",
    "\n",
    "В результате анализа результатов A/B тестирования выявлено, что:\n",
    "- Средние значения чека среди платящих клиентов (ARPPU) в двух группах отличается\n",
    "- Новый метод оплаты не повлиял на конверсию в двух группах\n",
    "\n",
    "На основе результатов, рекомендуется **не реализовывать** новый метод оплаты. \n",
    "\n",
    "Средний чек в группе с новым типом оплаты выше, однако рассуждая логически, есть сомнения, что метод оплаты может как-то влиять на средний чек. С оплатой клиент сталкивается в момент оформления товаров из корзины; на экране оплаты обычно не выбирают дополнительных товаров. Возможно, рост среднего чека как-то связан с маркетинговыми кампаниями, т.к. подозрительно много людей **только** в группе В имеют одинаковый чек в 1900.\n",
    "\n",
    "Коэффициент конверсии в данном кейсе видится более значимой метрикой. Неудобный процесс оплаты может заставить клиента прекратить оформление заказа. Как расчитано выше, новый метод не повлиял на конверсию в оплату, и он не отличается в двух группах."
   ]
  },
  {
   "cell_type": "markdown",
   "metadata": {},
   "source": [
    "## ***Задание 2. SQL***\n",
    "#### 2.1 Очень усердные ученики.\n",
    "\n",
    "Образовательные курсы состоят из различных уроков, каждый из которых состоит из нескольких маленьких заданий. Каждое такое маленькое задание называется \"горошиной\".\n",
    "Назовём очень усердным учеником того пользователя, который хотя бы раз за текущий месяц правильно решил 20 горошин.\n",
    "\n",
    "**Необходимо написать оптимальный запрос, который даст информацию о количестве очень усердных студентов.**\n",
    "\n",
    "NB! Под усердным студентом мы понимаем студента, который правильно решил 20 задач за текущий месяц."
   ]
  },
  {
   "cell_type": "code",
   "execution_count": 73,
   "metadata": {},
   "outputs": [],
   "source": [
    "connection_default = {'host':'http://clickhouse.beslan.pro:8080',\n",
    "                      'database':'default',\n",
    "                      'user':'student',\n",
    "                      'password':'dpo_python_2020'\n",
    "                     }"
   ]
  },
  {
   "cell_type": "code",
   "execution_count": 74,
   "metadata": {},
   "outputs": [],
   "source": [
    "q_successsful_students = '''\n",
    "SELECT COUNT(DISTINCT st_id) as successful_students\n",
    "FROM\n",
    "    (\n",
    "    SELECT st_id, SUM(correct) AS tasks_done\n",
    "    FROM peas\n",
    "    GROUP BY st_id\n",
    "    HAVING tasks_done >= 20\n",
    "    ORDER BY tasks_done DESC\n",
    "    )\n",
    "'''\n",
    "#выбираем КОЛИЧЕСТВО усердных студентов. Источником является подзапрос, где выбраны только студенты \n",
    "#которые успешно решили >= 20 горошин (задач). Основной запрос считает уникальное кол-во ID студентов. \n",
    "#т.к. Correct - Boolean и принимает значения 1 или 0, берется сумма столбца correct, чтобы получить только решенные peas"
   ]
  },
  {
   "cell_type": "code",
   "execution_count": 75,
   "metadata": {},
   "outputs": [],
   "source": [
    "df_peas_done = ph.read_clickhouse(query=q_successsful_students, connection=connection_default)"
   ]
  },
  {
   "cell_type": "code",
   "execution_count": 76,
   "metadata": {},
   "outputs": [
    {
     "data": {
      "text/html": [
       "<div>\n",
       "<style scoped>\n",
       "    .dataframe tbody tr th:only-of-type {\n",
       "        vertical-align: middle;\n",
       "    }\n",
       "\n",
       "    .dataframe tbody tr th {\n",
       "        vertical-align: top;\n",
       "    }\n",
       "\n",
       "    .dataframe thead th {\n",
       "        text-align: right;\n",
       "    }\n",
       "</style>\n",
       "<table border=\"1\" class=\"dataframe\">\n",
       "  <thead>\n",
       "    <tr style=\"text-align: right;\">\n",
       "      <th></th>\n",
       "      <th>successful_students</th>\n",
       "    </tr>\n",
       "  </thead>\n",
       "  <tbody>\n",
       "    <tr>\n",
       "      <th>0</th>\n",
       "      <td>136</td>\n",
       "    </tr>\n",
       "  </tbody>\n",
       "</table>\n",
       "</div>"
      ],
      "text/plain": [
       "   successful_students\n",
       "0                  136"
      ]
     },
     "execution_count": 76,
     "metadata": {},
     "output_type": "execute_result"
    }
   ],
   "source": [
    "df_peas_done"
   ]
  },
  {
   "cell_type": "markdown",
   "metadata": {},
   "source": [
    "#### 2.2 Оптимизация воронки\n",
    "\n",
    "2.2.1 Условие\n",
    "\n",
    "Образовательная платформа предлагает пройти студентам курсы по модели trial: студент может решить бесплатно лишь 30 горошин в день. Для неограниченного количества заданий в определенной дисциплине студенту необходимо приобрести полный доступ. Команда провела эксперимент, где был протестирован новый экран оплаты.\n",
    "\n",
    "Таблицы:\n",
    "\n",
    "1) peas - данные о студентах и решенных задачах\n",
    "\n",
    "2) studs - данные об эксперименте\n",
    "\n",
    "3) final_project_check - данные о покупках полной версии\n",
    "\n",
    "**Необходимо в одном запросе выгрузить следующую информацию о группах пользователей:**\n",
    "\n",
    "1) ARPU \n",
    "\n",
    "2) ARPAU \n",
    "\n",
    "3) CR в покупку \n",
    "\n",
    "4) СR активного пользователя в покупку \n",
    "\n",
    "5) CR пользователя из активности по математике (subject = ’math’) в покупку курса по математике\n",
    "\n",
    "6) ARPU считается относительно всех пользователей, попавших в группы.\n",
    "\n",
    "NB:\n",
    "Активным считается пользователь, за все время решивший больше 10 задач правильно в любых дисциплинах.\n",
    "Активным по математике считается пользователь, за все время решивший 2 или больше задач правильно по математике."
   ]
  },
  {
   "cell_type": "code",
   "execution_count": 196,
   "metadata": {},
   "outputs": [],
   "source": [
    "q_metrics = '''\n",
    "SELECT \n",
    "    test_grp,\n",
    "    round(SUM(checks.money) / uniqExact(studs.st_id),2) AS ARPU,\n",
    "    round(sumIf(checks.money, activeness.successful_tasks > 10 ) / uniqIf(activeness.st_id, activeness.successful_tasks > 10),2) AS ARPAU,\n",
    "    round(uniqIf(studs.st_id, checks.money > 0) / uniqExact(studs.st_id) * 100,2) AS general_CR,\n",
    "    round(uniqIf(studs.st_id, checks.money > 0 AND activeness.successful_tasks > 10) / uniqIf(studs.st_id, activeness.successful_tasks > 10) * 100,2) AS active_studs_CR,\n",
    "    round(uniqIf(studs.st_id, activeness.math_successful_tasks >=2 AND checks.money > 0) / uniqIf(studs.st_id, activeness.math_successful_tasks >=2) * 100,2) AS math_active_CR\n",
    "    FROM studs\n",
    "LEFT JOIN \n",
    "    (\n",
    "    SELECT\n",
    "        st_id,\n",
    "        SUM(correct) AS successful_tasks,\n",
    "        sumIf(correct, subject = 'Math') AS math_successful_tasks\n",
    "    FROM peas\n",
    "    GROUP BY st_id) as activeness\n",
    "ON studs.st_id = activeness.st_id\n",
    "LEFT JOIN final_project_check as checks\n",
    "ON studs.st_id = checks.st_id\n",
    "GROUP BY test_grp\n",
    "'''"
   ]
  },
  {
   "cell_type": "markdown",
   "metadata": {},
   "source": [
    "#### Логика запроса: \n",
    "В запросе используются функции ClickHouse: -IF, round, uniq.\n",
    "\n",
    "- Основной таблицей является studs (600 чел.)\n",
    "- К ней присоединятся таблица peas с данными о количестве верно решенных заданиях (для выделения активных студентов) и данными о верно решенных заданиях по математике\n",
    "- В конце присоединяется таблица с данными о суммах покупок\n",
    "- Объединение всех таблиц возможно благодаря единому ID (st_id)\n",
    "- Запрос группируется по типу тестовой группы для разделения метрик"
   ]
  },
  {
   "cell_type": "code",
   "execution_count": 197,
   "metadata": {},
   "outputs": [],
   "source": [
    "df_students_metrics = ph.read_clickhouse(query=q_metrics, connection=connection_default)"
   ]
  },
  {
   "cell_type": "code",
   "execution_count": 198,
   "metadata": {},
   "outputs": [
    {
     "data": {
      "text/html": [
       "<div>\n",
       "<style scoped>\n",
       "    .dataframe tbody tr th:only-of-type {\n",
       "        vertical-align: middle;\n",
       "    }\n",
       "\n",
       "    .dataframe tbody tr th {\n",
       "        vertical-align: top;\n",
       "    }\n",
       "\n",
       "    .dataframe thead th {\n",
       "        text-align: right;\n",
       "    }\n",
       "</style>\n",
       "<table border=\"1\" class=\"dataframe\">\n",
       "  <thead>\n",
       "    <tr style=\"text-align: right;\">\n",
       "      <th></th>\n",
       "      <th>test_grp</th>\n",
       "      <th>ARPU</th>\n",
       "      <th>ARPAU</th>\n",
       "      <th>general_CR</th>\n",
       "      <th>active_studs_CR</th>\n",
       "      <th>math_active_CR</th>\n",
       "    </tr>\n",
       "  </thead>\n",
       "  <tbody>\n",
       "    <tr>\n",
       "      <th>0</th>\n",
       "      <td>control</td>\n",
       "      <td>4540.98</td>\n",
       "      <td>10393.70</td>\n",
       "      <td>4.92</td>\n",
       "      <td>11.02</td>\n",
       "      <td>10.20</td>\n",
       "    </tr>\n",
       "    <tr>\n",
       "      <th>1</th>\n",
       "      <td>pilot</td>\n",
       "      <td>11508.47</td>\n",
       "      <td>29739.58</td>\n",
       "      <td>10.85</td>\n",
       "      <td>26.04</td>\n",
       "      <td>14.29</td>\n",
       "    </tr>\n",
       "  </tbody>\n",
       "</table>\n",
       "</div>"
      ],
      "text/plain": [
       "  test_grp      ARPU     ARPAU  general_CR  active_studs_CR  math_active_CR\n",
       "0  control   4540.98  10393.70        4.92            11.02           10.20\n",
       "1    pilot  11508.47  29739.58       10.85            26.04           14.29"
      ]
     },
     "execution_count": 198,
     "metadata": {},
     "output_type": "execute_result"
    }
   ],
   "source": [
    "df_students_metrics"
   ]
  },
  {
   "cell_type": "markdown",
   "metadata": {},
   "source": [
    "## ***Задание 3. Создание функции для автоматизации***\n",
    "\n",
    "1. Необходимо реальзовать функцию, которая будет автоматически подгружать информацию из дополнительного файла groups_add.csv (заголовки могут отличаться) и на основании дополнительных параметров пересчитывать метрики.\n",
    "2. Необходимо создать функцию для построения графиков по получаемым метрикам"
   ]
  },
  {
   "cell_type": "code",
   "execution_count": 199,
   "metadata": {},
   "outputs": [],
   "source": [
    "def update_metrics(uptdate_df):\n",
    "    \"\"\"Функция для автоматической загрузки дополнительных данных файла group_add и расчета ключевых метрик\"\"\"\n",
    "    \n",
    "    # загрузка датафреймов\n",
    "    groups = pd.read_csv(\n",
    "    '/mnt/HC_Volume_18315164/home-jupyter/jupyter-e-avdonin/datasets/final_project_datasets/groups.csv',\n",
    "    sep = ';')\n",
    "    active_studs = pd.read_csv(\n",
    "    '/mnt/HC_Volume_18315164/home-jupyter/jupyter-e-avdonin/datasets/final_project_datasets/active_studs.csv',\n",
    "    sep = ';')\n",
    "    checks = pd.read_csv(\n",
    "    '/mnt/HC_Volume_18315164/home-jupyter/jupyter-e-avdonin/datasets/final_project_datasets/checks.csv',\n",
    "    sep = ';')\n",
    "    groups_add = pd.read_csv(\n",
    "    uptdate_df)\n",
    "    \n",
    "    # переимнование header в единый вид; порядок колонок groups и groups_add может отличаться, поэтому учитвается 2 порядка\n",
    "    if groups.dtypes[0] == int:\n",
    "        groups.rename(columns={groups.columns[0]: 'student_id'}, inplace = True) # сначала id потом группа\n",
    "        groups.rename(columns={groups.columns[1]: 'grp'}, inplace = True)\n",
    "    else:\n",
    "        groups.rename(columns={groups.columns[1]: 'grp'}, inplace = True) # сначала группа, потом id\n",
    "        groups.rename(columns={groups.columns[0]: 'student_id'}, inplace = True)\n",
    "      \n",
    "    # тоже самое для groups_add\n",
    "    if groups_add.dtypes[0] == int:\n",
    "        groups_add.rename(columns={groups_add.columns[0]: 'student_id'}, inplace = True) # сначала id потом группа\n",
    "        groups_add.rename(columns={groups_add.columns[1]: 'grp'}, inplace = True)\n",
    "    else:\n",
    "        groups_add.rename(columns={groups_add.columns[1]: 'grp'}, inplace = True) # сначала группа, потом id\n",
    "        groups_add.rename(columns={groups_add.columns[0]: 'student_id'}, inplace = True)\n",
    "       \n",
    "    # объединение df\n",
    "    both_groups = pd.concat([groups, groups_add])\n",
    "    full_info_test = both_groups.merge(active_studs, on='student_id', how='inner') \\\n",
    "        .merge(checks, on='student_id', how='outer') \n",
    "    A_group_full_info_test = full_info_test.query('grp == \"A\"').fillna(0)\n",
    "    B_group_full_info_test = full_info_test.query('grp == \"B\"').fillna(0)\n",
    "    \n",
    "    # рассчет метрик\n",
    "    CR_A = round(A_group_full_info_test.query('rev > 0').student_id.count() / A_group_full_info_test.student_id.count()*100,2)\n",
    "    CR_B = round(B_group_full_info_test.query('rev > 0').student_id.count() / B_group_full_info_test.student_id.count()*100,2)\n",
    "\n",
    "    avg_rev_per_active_A = round(A_group_full_info_test.query('rev > 0').rev.mean(),2)\n",
    "    avg_rev_per_active_B = round(B_group_full_info_test.query('rev > 0').rev.mean(),2)\n",
    "                          \n",
    "    return pd.DataFrame({'group_name': ['A', 'B'], \\\n",
    "                         'conversion_rate': [CR_A, CR_B], \\\n",
    "                         'ARPPU': [avg_rev_per_active_A, avg_rev_per_active_B]})"
   ]
  },
  {
   "cell_type": "code",
   "execution_count": 200,
   "metadata": {},
   "outputs": [
    {
     "data": {
      "text/html": [
       "<div>\n",
       "<style scoped>\n",
       "    .dataframe tbody tr th:only-of-type {\n",
       "        vertical-align: middle;\n",
       "    }\n",
       "\n",
       "    .dataframe tbody tr th {\n",
       "        vertical-align: top;\n",
       "    }\n",
       "\n",
       "    .dataframe thead th {\n",
       "        text-align: right;\n",
       "    }\n",
       "</style>\n",
       "<table border=\"1\" class=\"dataframe\">\n",
       "  <thead>\n",
       "    <tr style=\"text-align: right;\">\n",
       "      <th></th>\n",
       "      <th>group_name</th>\n",
       "      <th>conversion_rate</th>\n",
       "      <th>ARPPU</th>\n",
       "    </tr>\n",
       "  </thead>\n",
       "  <tbody>\n",
       "    <tr>\n",
       "      <th>0</th>\n",
       "      <td>A</td>\n",
       "      <td>5.07</td>\n",
       "      <td>933.59</td>\n",
       "    </tr>\n",
       "    <tr>\n",
       "      <th>1</th>\n",
       "      <td>B</td>\n",
       "      <td>4.62</td>\n",
       "      <td>1257.88</td>\n",
       "    </tr>\n",
       "  </tbody>\n",
       "</table>\n",
       "</div>"
      ],
      "text/plain": [
       "  group_name  conversion_rate    ARPPU\n",
       "0          A             5.07   933.59\n",
       "1          B             4.62  1257.88"
      ]
     },
     "execution_count": 200,
     "metadata": {},
     "output_type": "execute_result"
    }
   ],
   "source": [
    "update_metrics('/mnt/HC_Volume_18315164/home-jupyter/jupyter-e-avdonin/datasets/final_project_datasets/group_add.csv')"
   ]
  },
  {
   "cell_type": "code",
   "execution_count": 201,
   "metadata": {},
   "outputs": [],
   "source": [
    "df = update_metrics('/mnt/HC_Volume_18315164/home-jupyter/jupyter-e-avdonin/datasets/final_project_datasets/group_add.csv')"
   ]
  },
  {
   "cell_type": "code",
   "execution_count": 202,
   "metadata": {},
   "outputs": [],
   "source": [
    "def metrics_chart(source_df):\n",
    "    \"\"\"Функция для построения графиков по ключевым метрикам на основе результатов работы функции update_metrics()\"\"\"\n",
    "    plt.figure(figsize=(10, 10))\n",
    "    \n",
    "    # график коверсии\n",
    "    plt.figure(figsize=(10, 10))\n",
    "    plt.title('Показатель конверсии по итогам A/B теста', fontsize=20)\n",
    "    sns.barplot(data=df, x='group_name', y='conversion_rate', palette=['g','y']) \\\n",
    "        .set(xlabel='Тестовая группа', ylabel='Коэффициент конверсии, %')\n",
    "    \n",
    "    # график ARPPU\n",
    "    plt.figure(figsize=(10, 10))\n",
    "    plt.title('Средний доход на платящего пользователя по итогам A/B теста', fontsize=20)\n",
    "    sns.barplot(data=df, x='group_name', y='ARPPU', palette=['y','g']) \\\n",
    "        .set(xlabel='Тестовая группа', ylabel='ARPPU, RUB')\n",
    "    return plt.show()\n",
    "    "
   ]
  },
  {
   "cell_type": "code",
   "execution_count": 203,
   "metadata": {},
   "outputs": [
    {
     "data": {
      "text/plain": [
       "<Figure size 720x720 with 0 Axes>"
      ]
     },
     "metadata": {},
     "output_type": "display_data"
    },
    {
     "data": {
      "image/png": "[encoded data removed]",
      "text/plain": [
       "<Figure size 720x720 with 1 Axes>"
      ]
     },
     "metadata": {},
     "output_type": "display_data"
    },
    {
     "data": {
      "image/png": "[encoded data removed]",
      "text/plain": [
       "<Figure size 720x720 with 1 Axes>"
      ]
     },
     "metadata": {},
     "output_type": "display_data"
    }
   ],
   "source": [
    "metrics_chart(df)"
   ]
  },
  {
   "cell_type": "code",
   "execution_count": null,
   "metadata": {},
   "outputs": [],
   "source": []
  },
  {
   "cell_type": "code",
   "execution_count": null,
   "metadata": {},
   "outputs": [],
   "source": []
  },
  {
   "cell_type": "code",
   "execution_count": null,
   "metadata": {},
   "outputs": [],
   "source": []
  },
  {
   "cell_type": "code",
   "execution_count": null,
   "metadata": {},
   "outputs": [],
   "source": []
  }
 ],
 "metadata": {
  "kernelspec": {
   "display_name": "Python 3 (ipykernel)",
   "language": "python",
   "name": "python3"
  },
  "language_info": {
   "codemirror_mode": {
    "name": "ipython",
    "version": 3
   },
   "file_extension": ".py",
   "mimetype": "text/x-python",
   "name": "python",
   "nbconvert_exporter": "python",
   "pygments_lexer": "ipython3",
   "version": "3.9.13"
  }
 },
 "nbformat": 4,
 "nbformat_minor": 4
}
